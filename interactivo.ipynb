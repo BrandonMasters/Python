{
 "cells": [
  {
   "cell_type": "code",
   "execution_count": 3,
   "metadata": {},
   "outputs": [
    {
     "name": "stdout",
     "output_type": "stream",
     "text": [
      "             Fecha  Mes  Hora  PML Total , MDA , CENTRO SUR\n",
      "0      2016-01-29     1     1                        785.15\n",
      "1      2016-01-29     1     2                        585.68\n",
      "2      2016-01-29     1     3                        520.00\n",
      "3      2016-01-29     1     4                        485.76\n",
      "4      2016-01-29     1     5                        507.12\n",
      "...            ...  ...   ...                           ...\n",
      "76020  2024-09-30     9    20                       1083.30\n",
      "76021  2024-09-30     9    21                        644.13\n",
      "76022  2024-09-30     9    22                        668.18\n",
      "76023  2024-09-30     9    23                        601.44\n",
      "76024  2024-09-30     9    24                        558.51\n",
      "\n",
      "[76025 rows x 4 columns]\n",
      "     Mes  Hora  PML Total , MDA , CENTRO SUR\n",
      "0      1     1                    748.163426\n",
      "1      1     2                    647.492908\n",
      "2      1     3                    607.251873\n",
      "3      1     4                    586.032829\n",
      "4      1     5                    585.636096\n",
      "..   ...   ...                           ...\n",
      "283   12    20                   1156.746290\n",
      "284   12    21                   1136.512177\n",
      "285   12    22                   1089.558992\n",
      "286   12    23                   1037.588629\n",
      "287   12    24                    862.130242\n",
      "\n",
      "[288 rows x 3 columns]\n"
     ]
    }
   ],
   "source": [
    "import pandas as pd\n",
    "\n",
    "pmls_nodos = pd.read_excel(\"C:\\\\Users\\\\regg6\\\\OneDrive - regulus.com.mx\\\\Documentos\\\\Archivos_regulus\\\\Cenace\\\\Historial PML MDA\\\\PML Historicos nodos transaccionados\\\\Reporte_PML_CENTRO_SUR.xlsx\")\n",
    "print(pmls_nodos)\n",
    "pmls_nodos_mes_hora = pmls_nodos.groupby([\"Mes\",\"Hora\"]).agg({\"PML Total , MDA , CENTRO SUR\":\"mean\"})\n",
    "pmls_nodos_mes_hora = pmls_nodos_mes_hora.reset_index().sort_values(by=['Mes','Hora'])\n",
    "print(pmls_nodos_mes_hora)\n",
    "pmls_nodos_mes_hora.to_excel(\"C:\\\\Users\\\\regg6\\\\OneDrive - regulus.com.mx\\\\Documentos\\\\Archivos_regulus\\\\Cenace\\\\Historial PML MDA\\\\PML Historicos nodos transaccionados\\\\pml_promedio_mes_hora_CENTRO_SUR.xlsx\")"
   ]
  },
  {
   "cell_type": "code",
   "execution_count": 26,
   "metadata": {},
   "outputs": [
    {
     "name": "stdout",
     "output_type": "stream",
     "text": [
      "              0\n",
      "0    2024-06-01\n",
      "1    2024-06-02\n",
      "2    2024-06-03\n",
      "3    2024-06-04\n",
      "4    2024-06-05\n",
      "..          ...\n",
      "117  2024-09-26\n",
      "118  2024-09-27\n",
      "119  2024-09-28\n",
      "120  2024-09-29\n",
      "121  2024-09-30\n",
      "\n",
      "[122 rows x 1 columns]\n"
     ]
    }
   ],
   "source": [
    "import datetime\n",
    "rango_fechas = pd.date_range(start='2024/06/01',end='2024/09/30')\n",
    "fechas = [l.date() for l in rango_fechas]\n",
    "df_fecha = pd.DataFrame(fechas)\n",
    "print(df_fecha)\n",
    "df_fecha.to_excel(\"lista_fechas.xlsx\")\n"
   ]
  }
 ],
 "metadata": {
  "kernelspec": {
   "display_name": "Python 3",
   "language": "python",
   "name": "python3"
  },
  "language_info": {
   "codemirror_mode": {
    "name": "ipython",
    "version": 3
   },
   "file_extension": ".py",
   "mimetype": "text/x-python",
   "name": "python",
   "nbconvert_exporter": "python",
   "pygments_lexer": "ipython3",
   "version": "3.12.2"
  }
 },
 "nbformat": 4,
 "nbformat_minor": 2
}
